{
  "nbformat": 4,
  "nbformat_minor": 0,
  "metadata": {
    "colab": {
      "provenance": [],
      "authorship_tag": "ABX9TyNNaekye9LE6aJShV+onPT3",
      "include_colab_link": true
    },
    "kernelspec": {
      "name": "python3",
      "display_name": "Python 3"
    },
    "language_info": {
      "name": "python"
    }
  },
  "cells": [
    {
      "cell_type": "markdown",
      "metadata": {
        "id": "view-in-github",
        "colab_type": "text"
      },
      "source": [
        "<a href=\"https://colab.research.google.com/github/gusadi09/predefined_chatbot/blob/main/day3_predefined_chatbot.ipynb\" target=\"_parent\"><img src=\"https://colab.research.google.com/assets/colab-badge.svg\" alt=\"Open In Colab\"/></a>"
      ]
    },
    {
      "cell_type": "code",
      "execution_count": 4,
      "metadata": {
        "id": "WB9b_3t4pmdm",
        "colab": {
          "base_uri": "https://localhost:8080/"
        },
        "outputId": "a9cda1f8-6425-4051-ba75-f3fd694d66ca"
      },
      "outputs": [
        {
          "output_type": "stream",
          "name": "stdout",
          "text": [
            "Bot: Hi, I'm here! (give me 'bye' to close the chat)\n",
            "You: what your name\n",
            "Bot: I'm not sure I understand\n",
            "You: oke\n",
            "Bot: I'm not sure I understand\n",
            "You: bye\n",
            "Bot: Thank you for chat with me! See you.\n"
          ]
        }
      ],
      "source": [
        "#import regex module to handle pattern matching\n",
        "import re\n",
        "\n",
        "# add predefined response\n",
        "responses = {\n",
        "    'hello': 'Hi there! How I can assist you today?',\n",
        "    'hi':'Hello! How can I help you?',\n",
        "    'how are you?':\"I'm just a bot, but I'm doing great! How about you?\",\n",
        "    'what is your name':\"I'm a chatbot created to assist you\",\n",
        "    'default': \"I'm not sure I understand\"\n",
        "}\n",
        "\n",
        "#user response process\n",
        "def chatbot_response(user_input):\n",
        "  user_input = user_input.lower()\n",
        "\n",
        "  for keyword in responses:\n",
        "    if re.search(keyword, user_input):\n",
        "      return responses[keyword]\n",
        "\n",
        "  return responses['default']\n",
        "\n",
        "#Main function\n",
        "def chatbot():\n",
        "  print(\"Bot: Hi, I'm here! (give me 'bye' to close the chat)\")\n",
        "\n",
        "  while True:\n",
        "    user_input = input(\"You: \")\n",
        "\n",
        "    if user_input.lower() == 'bye':\n",
        "      print(\"Bot: Thank you for chat with me! See you.\")\n",
        "      break\n",
        "\n",
        "    bot_response = chatbot_response(user_input)\n",
        "\n",
        "    print(f\"Bot: {bot_response}\")\n",
        "\n",
        "chatbot()"
      ]
    }
  ]
}